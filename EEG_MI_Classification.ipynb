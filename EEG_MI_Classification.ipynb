{
  "nbformat": 4,
  "nbformat_minor": 0,
  "metadata": {
    "colab": {
      "name": "EEG_MI_Classification.ipynb",
      "provenance": [],
      "authorship_tag": "ABX9TyPNKekQYPkToG8DZe8XVsWW"
    },
    "kernelspec": {
      "name": "python3",
      "display_name": "Python 3"
    },
    "language_info": {
      "name": "python"
    }
  },
  "cells": [
    {
      "cell_type": "code",
      "metadata": {
        "id": "D6z5waRB1eFj"
      },
      "source": [
        "#import libraries\n",
        "import numpy as np\n",
        "import pandas as pd"
      ],
      "execution_count": null,
      "outputs": []
    },
    {
      "cell_type": "code",
      "metadata": {
        "id": "lfC4YbNX1rr_"
      },
      "source": [
        "#importing data \n",
        "data = pd.read_csv(\"data_samples.csv\")\n"
      ],
      "execution_count": null,
      "outputs": []
    },
    {
      "cell_type": "code",
      "metadata": {
        "colab": {
          "base_uri": "https://localhost:8080/"
        },
        "id": "QZXJPoZ0_vHY",
        "outputId": "aa3cc1df-fe42-4b85-e78f-56cfe926a8e5"
      },
      "source": [
        "print(data)"
      ],
      "execution_count": null,
      "outputs": [
        {
          "output_type": "stream",
          "text": [
            "        -81527.8125  -17151.26171875  ...  -74632.5078125   left\n",
            "0     -81529.773438    -17151.833984  ...   -74641.140625   left\n",
            "1     -81535.679688    -17153.121094  ...   -74653.492188   left\n",
            "2     -81536.968750    -17152.597656  ...   -74658.023438   left\n",
            "3     -81532.250000    -17148.257812  ...   -74656.546875   left\n",
            "4     -81537.593750    -17152.882812  ...   -74661.117188   left\n",
            "...             ...              ...  ...             ...    ...\n",
            "49994 -77034.812500    -15287.067383  ...   -73124.132812  right\n",
            "49995 -77029.476562    -15283.346680  ...   -73115.687500  right\n",
            "49996 -77017.984375    -15273.094727  ...   -73096.093750  right\n",
            "49997 -77017.507812    -15277.578125  ...   -73090.132812  right\n",
            "49998 -77012.593750    -15275.527344  ...   -73086.890625  right\n",
            "\n",
            "[49999 rows x 20 columns]\n"
          ],
          "name": "stdout"
        }
      ]
    },
    {
      "cell_type": "code",
      "metadata": {
        "id": "WV2Zhh75FjsI"
      },
      "source": [
        "#shuffling the data as 2differnt files for 2 different classes has been concatenated\n",
        "from sklearn.utils import shuffle\n",
        "\n",
        "dataset = shuffle(data)"
      ],
      "execution_count": null,
      "outputs": []
    },
    {
      "cell_type": "code",
      "metadata": {
        "colab": {
          "base_uri": "https://localhost:8080/"
        },
        "id": "fs243oz_Gp3v",
        "outputId": "7299e326-3863-415a-de75-c1ff4b09db10"
      },
      "source": [
        "print(dataset)"
      ],
      "execution_count": null,
      "outputs": [
        {
          "output_type": "stream",
          "text": [
            "        -81527.8125  -17151.26171875  ...  -74632.5078125   left\n",
            "34194 -89803.320312    -19152.738281  ...   -79717.070312  right\n",
            "10116 -75418.007812    -14471.054688  ...   -72196.304688   left\n",
            "17180 -73859.507812    -13276.291992  ...   -71074.109375   left\n",
            "12979 -74665.460938    -13840.867188  ...   -71629.148438   left\n",
            "3449  -79612.453125    -16278.553711  ...   -74149.382812   left\n",
            "...             ...              ...  ...             ...    ...\n",
            "2311  -80222.234375    -16671.992188  ...   -74421.460938   left\n",
            "22853 -73101.484375    -12758.017578  ...   -70681.437500   left\n",
            "38791 -85697.664062    -18184.806641  ...   -76868.593750  right\n",
            "33647 -90376.671875    -19254.304688  ...   -80139.835938  right\n",
            "37622 -86649.140625    -18419.839844  ...   -77592.765625  right\n",
            "\n",
            "[49999 rows x 20 columns]\n"
          ],
          "name": "stdout"
        }
      ]
    },
    {
      "cell_type": "code",
      "metadata": {
        "id": "zmHATmT2-O6L"
      },
      "source": [
        "#Splitting the data into X and y\n",
        "X = dataset.iloc[:, :-1].values\n",
        "y = dataset.iloc[:, -1].values"
      ],
      "execution_count": null,
      "outputs": []
    },
    {
      "cell_type": "code",
      "metadata": {
        "colab": {
          "base_uri": "https://localhost:8080/"
        },
        "id": "8Pge3mu_G3MG",
        "outputId": "a8941b63-2629-4978-ce5a-8d7b4cea501f"
      },
      "source": [
        "print(X)"
      ],
      "execution_count": null,
      "outputs": [
        {
          "output_type": "stream",
          "text": [
            "[[-89803.3203125  -19152.73828125  22611.23828125 ... -27659.75390625\n",
            "  -93935.0234375  -79717.0703125 ]\n",
            " [-75418.0078125  -14471.0546875   26796.48632812 ... -24497.22460938\n",
            "  -70342.59375    -72196.3046875 ]\n",
            " [-73859.5078125  -13276.29199219  27694.51367188 ... -23838.47460938\n",
            "  -67703.203125   -71074.109375  ]\n",
            " ...\n",
            " [-85697.6640625  -18184.80664062  23335.84179688 ... -26940.0625\n",
            "  -86723.90625    -76868.59375   ]\n",
            " [-90376.671875   -19254.3046875   22531.94140625 ... -27698.61523438\n",
            "  -94971.1875     -80139.8359375 ]\n",
            " [-86649.140625   -18419.83984375  23070.48046875 ... -27356.19726562\n",
            "  -88378.6328125  -77592.765625  ]]\n"
          ],
          "name": "stdout"
        }
      ]
    },
    {
      "cell_type": "code",
      "metadata": {
        "colab": {
          "base_uri": "https://localhost:8080/"
        },
        "id": "PsUhTu1tG7SS",
        "outputId": "c5ba17a5-c04d-4d1f-e0b8-4010f279b902"
      },
      "source": [
        "print(y)"
      ],
      "execution_count": null,
      "outputs": [
        {
          "output_type": "stream",
          "text": [
            "['right' 'left' 'left' ... 'right' 'right' 'right']\n"
          ],
          "name": "stdout"
        }
      ]
    },
    {
      "cell_type": "code",
      "metadata": {
        "id": "dbihG9CTIqR1"
      },
      "source": [
        "# encoding the dependent variable because they are in strings\n",
        "from sklearn.preprocessing import LabelEncoder\n",
        "le = LabelEncoder()\n",
        "y = le.fit_transform(y)"
      ],
      "execution_count": null,
      "outputs": []
    },
    {
      "cell_type": "code",
      "metadata": {
        "colab": {
          "base_uri": "https://localhost:8080/"
        },
        "id": "9IzTEgy0Ir_G",
        "outputId": "c0436bb4-9a5e-482a-8a38-4e0574723110"
      },
      "source": [
        "print(y)"
      ],
      "execution_count": null,
      "outputs": [
        {
          "output_type": "stream",
          "text": [
            "[1 0 0 ... 1 1 1]\n"
          ],
          "name": "stdout"
        }
      ]
    },
    {
      "cell_type": "code",
      "metadata": {
        "id": "O7jp1SC0-cNf"
      },
      "source": [
        "#splitting the dataset into train and test\n",
        "from sklearn.model_selection import train_test_split\n",
        "X_train, X_test, y_train, y_test = train_test_split(X, y, test_size = 0.25, random_state = 0)"
      ],
      "execution_count": null,
      "outputs": []
    },
    {
      "cell_type": "code",
      "metadata": {
        "id": "cMlD_qjU-kq3"
      },
      "source": [
        "# standardizing the X_train and X_test\n",
        "from sklearn.preprocessing import StandardScaler\n",
        "sc = StandardScaler()\n",
        "X_train = sc.fit_transform(X_train)\n",
        "X_test = sc.transform(X_test)"
      ],
      "execution_count": null,
      "outputs": []
    },
    {
      "cell_type": "code",
      "metadata": {
        "colab": {
          "base_uri": "https://localhost:8080/"
        },
        "id": "y3ciAfRx-wVo",
        "outputId": "f6c375ce-6574-46a0-b893-60cc07bcc042"
      },
      "source": [
        "# applying logestic regression\n",
        "from sklearn.linear_model import LogisticRegression\n",
        "\n",
        "classifier = LogisticRegression(max_iter=10000, solver = 'lbfgs')\n",
        "classifier.fit(X_train, y_train)"
      ],
      "execution_count": null,
      "outputs": [
        {
          "output_type": "execute_result",
          "data": {
            "text/plain": [
              "LogisticRegression(C=1.0, class_weight=None, dual=False, fit_intercept=True,\n",
              "                   intercept_scaling=1, l1_ratio=None, max_iter=10000,\n",
              "                   multi_class='auto', n_jobs=None, penalty='l2',\n",
              "                   random_state=None, solver='lbfgs', tol=0.0001, verbose=0,\n",
              "                   warm_start=False)"
            ]
          },
          "metadata": {
            "tags": []
          },
          "execution_count": 76
        }
      ]
    },
    {
      "cell_type": "code",
      "metadata": {
        "colab": {
          "base_uri": "https://localhost:8080/"
        },
        "id": "PBWc8_DLJaTN",
        "outputId": "c933b146-e9b0-480d-b262-d55f66883e1c"
      },
      "source": [
        "# applying kernel SVM\n",
        "from sklearn.svm import SVC\n",
        "classifier = SVC(kernel = 'rbf', random_state = 0)\n",
        "classifier.fit(X_train, y_train)"
      ],
      "execution_count": null,
      "outputs": [
        {
          "output_type": "execute_result",
          "data": {
            "text/plain": [
              "SVC(C=1.0, break_ties=False, cache_size=200, class_weight=None, coef0=0.0,\n",
              "    decision_function_shape='ovr', degree=3, gamma='scale', kernel='rbf',\n",
              "    max_iter=-1, probability=False, random_state=0, shrinking=True, tol=0.001,\n",
              "    verbose=False)"
            ]
          },
          "metadata": {
            "tags": []
          },
          "execution_count": 13
        }
      ]
    },
    {
      "cell_type": "code",
      "metadata": {
        "colab": {
          "base_uri": "https://localhost:8080/"
        },
        "id": "HjdnesoTnUsS",
        "outputId": "81e06be5-8074-4af0-ada4-6621948eedd7"
      },
      "source": [
        "# applying Random Forest\n",
        "from sklearn.ensemble import RandomForestClassifier\n",
        "classifier = RandomForestClassifier(n_estimators = 10, criterion = 'entropy', random_state = 0)\n",
        "classifier.fit(X_train, y_train)"
      ],
      "execution_count": null,
      "outputs": [
        {
          "output_type": "execute_result",
          "data": {
            "text/plain": [
              "RandomForestClassifier(bootstrap=True, ccp_alpha=0.0, class_weight=None,\n",
              "                       criterion='entropy', max_depth=None, max_features='auto',\n",
              "                       max_leaf_nodes=None, max_samples=None,\n",
              "                       min_impurity_decrease=0.0, min_impurity_split=None,\n",
              "                       min_samples_leaf=1, min_samples_split=2,\n",
              "                       min_weight_fraction_leaf=0.0, n_estimators=10,\n",
              "                       n_jobs=None, oob_score=False, random_state=0, verbose=0,\n",
              "                       warm_start=False)"
            ]
          },
          "metadata": {
            "tags": []
          },
          "execution_count": 50
        }
      ]
    },
    {
      "cell_type": "code",
      "metadata": {
        "colab": {
          "base_uri": "https://localhost:8080/"
        },
        "id": "_T6gh8k9HQ7g",
        "outputId": "69ce9d4d-f48b-42b9-bae9-a645a86a3fa9"
      },
      "source": [
        "#predicting using Random Forest gave the highest accuracy \n",
        "y_pred = classifier.predict(X_test)\n",
        "\n",
        "print(np.concatenate((y_pred.reshape(len(y_pred), 1), y_test.reshape(len(y_test), 1)), 1))"
      ],
      "execution_count": null,
      "outputs": [
        {
          "output_type": "stream",
          "text": [
            "[[0 0]\n",
            " [1 1]\n",
            " [0 0]\n",
            " ...\n",
            " [1 1]\n",
            " [0 0]\n",
            " [0 0]]\n"
          ],
          "name": "stdout"
        }
      ]
    },
    {
      "cell_type": "code",
      "metadata": {
        "colab": {
          "base_uri": "https://localhost:8080/"
        },
        "id": "B5s8xHm4HV5v",
        "outputId": "9a1661f6-3370-41bc-ad3e-8ee354df3057"
      },
      "source": [
        "# printing the confusion matrix and accuracy\n",
        "from sklearn.metrics import confusion_matrix, accuracy_score\n",
        "\n",
        "cm = confusion_matrix(y_test, y_pred)\n",
        "print(cm)\n",
        "accuracy_score(y_test, y_pred)"
      ],
      "execution_count": null,
      "outputs": [
        {
          "output_type": "stream",
          "text": [
            "[[6279    3]\n",
            " [   4 6214]]\n"
          ],
          "name": "stdout"
        },
        {
          "output_type": "execute_result",
          "data": {
            "text/plain": [
              "0.99944"
            ]
          },
          "metadata": {
            "tags": []
          },
          "execution_count": 52
        }
      ]
    }
  ]
}